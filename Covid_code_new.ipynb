{
 "cells": [
  {
   "cell_type": "markdown",
   "id": "93102fd0",
   "metadata": {},
   "source": [
    "# MMED Week 0 Project: Ebola"
   ]
  },
  {
   "cell_type": "markdown",
   "id": "87dbb163",
   "metadata": {},
   "source": [
    "# The Effect of Delaying Intervention on the Number of Cases of Ebola Outbreak in Congo"
   ]
  },
  {
   "cell_type": "markdown",
   "id": "c93cecaa",
   "metadata": {},
   "source": [
    "Group 7<br>\n",
    "Project: Ebola<br><br>\n",
    "\n",
    "**Students:**<br>\n",
    " - Annette Dariose Diffo Mboudjiho\n",
    " - Dishanand Jayeprokash\n",
    "  - Oumarou MOUSSA BOLA"
   ]
  },
  {
   "cell_type": "markdown",
   "id": "f29de4f7",
   "metadata": {},
   "source": [
    "## Data Preparation"
   ]
  },
  {
   "cell_type": "code",
   "execution_count": 1,
   "id": "c27b67da",
   "metadata": {},
   "outputs": [
    {
     "name": "stderr",
     "output_type": "stream",
     "text": [
      "Installing packages into ‘/var/autofs/misc/home/oumarou/R/x86_64-pc-linux-gnu-library/4.4’\n",
      "(as ‘lib’ is unspecified)\n",
      "\n"
     ]
    }
   ],
   "source": [
    "# Install and load necessary packages\n",
    "# install.packages(\"remotes\")\n",
    "# remotes::install_github(\"grantbrown/ABSEIR\")\n",
    "install.packages(c(\"deSolve\", \"ggplot2\", \"minpack.lm\", \"coda\"))\n"
   ]
  },
  {
   "cell_type": "code",
   "execution_count": 3,
   "id": "4c9b2ccb",
   "metadata": {},
   "outputs": [],
   "source": [
    "# library(ABSEIR)\n",
    "library(deSolve)\n",
    "library(ggplot2)\n",
    "library(minpack.lm)\n",
    "library(coda)\n",
    "library(dplyr)"
   ]
  },
  {
   "cell_type": "code",
   "execution_count": null,
   "id": "f11ad974",
   "metadata": {},
   "outputs": [],
   "source": []
  },
  {
   "cell_type": "code",
   "execution_count": 4,
   "id": "c96ef133",
   "metadata": {},
   "outputs": [
    {
     "data": {
      "text/html": [
       "<style>\n",
       ".list-inline {list-style: none; margin:0; padding: 0}\n",
       ".list-inline>li {display: inline-block}\n",
       ".list-inline>li:not(:last-child)::after {content: \"\\00b7\"; padding: 0 .5ex}\n",
       "</style>\n",
       "<ol class=list-inline><li>26</li><li>35</li><li>36</li><li>56</li><li>64</li><li>105</li><li>140</li><li>166</li><li>229</li><li>295</li><li>351</li><li>462</li><li>567</li><li>650</li><li>733</li><li>877</li><li>1028</li><li>1153</li><li>1328</li><li>1518</li><li>1672</li><li>1851</li><li>206</li><li>2257</li><li>2498</li><li>2655</li><li>2857</li><li>3009</li><li>3204</li><li>3396</li><li>3489</li><li>3612</li><li>3732</li><li>3856</li><li>3906</li><li>3981</li><li>4023</li><li>4035</li><li>4053</li><li>4068</li><li>3994</li><li>3977</li><li>3898</li><li>3792</li><li>3693</li><li>3605</li><li>3497</li><li>3381</li><li>3343</li><li>326</li><li>3186</li><li>3079</li><li>2936</li><li>2812</li><li>2733</li><li>2635</li><li>2573</li><li>2471</li><li>2384</li><li>2267</li><li>2173</li><li>2102</li><li>2009</li><li>1956</li><li>1863</li><li>1795</li><li>1694</li><li>1578</li><li>1539</li><li>1501</li><li>1479</li><li>1427</li><li>1333</li><li>1311</li><li>1168</li><li>1034</li><li>1027</li><li>999</li><li>952</li><li>893</li><li>855</li><li>808</li><li>775</li><li>772</li><li>749</li><li>716</li><li>676</li><li>640</li><li>595</li><li>572</li><li>553</li><li>541</li><li>521</li><li>505</li><li>489</li><li>475</li><li>450</li><li>435</li><li>424</li><li>408</li><li>353</li><li>338</li><li>316</li><li>293</li><li>287</li><li>283</li><li>263</li><li>249</li><li>236</li><li>227</li><li>220</li><li>209</li><li>207</li><li>177</li><li>163</li><li>168</li><li>161</li><li>152</li><li>148</li><li>127</li><li>115</li><li>107</li><li>103</li><li>105</li><li>97</li><li>98</li><li>96</li><li>93</li><li>87</li><li>82</li><li>79</li><li>71</li><li>74</li><li>72</li><li>70</li><li>71</li><li>69</li><li>65</li><li>67</li><li>68</li><li>65</li><li>60</li><li>57</li><li>53</li><li>50</li><li>50</li><li>49</li><li>47</li><li>49</li><li>48</li></ol>\n"
      ],
      "text/latex": [
       "\\begin{enumerate*}\n",
       "\\item 26\n",
       "\\item 35\n",
       "\\item 36\n",
       "\\item 56\n",
       "\\item 64\n",
       "\\item 105\n",
       "\\item 140\n",
       "\\item 166\n",
       "\\item 229\n",
       "\\item 295\n",
       "\\item 351\n",
       "\\item 462\n",
       "\\item 567\n",
       "\\item 650\n",
       "\\item 733\n",
       "\\item 877\n",
       "\\item 1028\n",
       "\\item 1153\n",
       "\\item 1328\n",
       "\\item 1518\n",
       "\\item 1672\n",
       "\\item 1851\n",
       "\\item 206\n",
       "\\item 2257\n",
       "\\item 2498\n",
       "\\item 2655\n",
       "\\item 2857\n",
       "\\item 3009\n",
       "\\item 3204\n",
       "\\item 3396\n",
       "\\item 3489\n",
       "\\item 3612\n",
       "\\item 3732\n",
       "\\item 3856\n",
       "\\item 3906\n",
       "\\item 3981\n",
       "\\item 4023\n",
       "\\item 4035\n",
       "\\item 4053\n",
       "\\item 4068\n",
       "\\item 3994\n",
       "\\item 3977\n",
       "\\item 3898\n",
       "\\item 3792\n",
       "\\item 3693\n",
       "\\item 3605\n",
       "\\item 3497\n",
       "\\item 3381\n",
       "\\item 3343\n",
       "\\item 326\n",
       "\\item 3186\n",
       "\\item 3079\n",
       "\\item 2936\n",
       "\\item 2812\n",
       "\\item 2733\n",
       "\\item 2635\n",
       "\\item 2573\n",
       "\\item 2471\n",
       "\\item 2384\n",
       "\\item 2267\n",
       "\\item 2173\n",
       "\\item 2102\n",
       "\\item 2009\n",
       "\\item 1956\n",
       "\\item 1863\n",
       "\\item 1795\n",
       "\\item 1694\n",
       "\\item 1578\n",
       "\\item 1539\n",
       "\\item 1501\n",
       "\\item 1479\n",
       "\\item 1427\n",
       "\\item 1333\n",
       "\\item 1311\n",
       "\\item 1168\n",
       "\\item 1034\n",
       "\\item 1027\n",
       "\\item 999\n",
       "\\item 952\n",
       "\\item 893\n",
       "\\item 855\n",
       "\\item 808\n",
       "\\item 775\n",
       "\\item 772\n",
       "\\item 749\n",
       "\\item 716\n",
       "\\item 676\n",
       "\\item 640\n",
       "\\item 595\n",
       "\\item 572\n",
       "\\item 553\n",
       "\\item 541\n",
       "\\item 521\n",
       "\\item 505\n",
       "\\item 489\n",
       "\\item 475\n",
       "\\item 450\n",
       "\\item 435\n",
       "\\item 424\n",
       "\\item 408\n",
       "\\item 353\n",
       "\\item 338\n",
       "\\item 316\n",
       "\\item 293\n",
       "\\item 287\n",
       "\\item 283\n",
       "\\item 263\n",
       "\\item 249\n",
       "\\item 236\n",
       "\\item 227\n",
       "\\item 220\n",
       "\\item 209\n",
       "\\item 207\n",
       "\\item 177\n",
       "\\item 163\n",
       "\\item 168\n",
       "\\item 161\n",
       "\\item 152\n",
       "\\item 148\n",
       "\\item 127\n",
       "\\item 115\n",
       "\\item 107\n",
       "\\item 103\n",
       "\\item 105\n",
       "\\item 97\n",
       "\\item 98\n",
       "\\item 96\n",
       "\\item 93\n",
       "\\item 87\n",
       "\\item 82\n",
       "\\item 79\n",
       "\\item 71\n",
       "\\item 74\n",
       "\\item 72\n",
       "\\item 70\n",
       "\\item 71\n",
       "\\item 69\n",
       "\\item 65\n",
       "\\item 67\n",
       "\\item 68\n",
       "\\item 65\n",
       "\\item 60\n",
       "\\item 57\n",
       "\\item 53\n",
       "\\item 50\n",
       "\\item 50\n",
       "\\item 49\n",
       "\\item 47\n",
       "\\item 49\n",
       "\\item 48\n",
       "\\end{enumerate*}\n"
      ],
      "text/markdown": [
       "1. 26\n",
       "2. 35\n",
       "3. 36\n",
       "4. 56\n",
       "5. 64\n",
       "6. 105\n",
       "7. 140\n",
       "8. 166\n",
       "9. 229\n",
       "10. 295\n",
       "11. 351\n",
       "12. 462\n",
       "13. 567\n",
       "14. 650\n",
       "15. 733\n",
       "16. 877\n",
       "17. 1028\n",
       "18. 1153\n",
       "19. 1328\n",
       "20. 1518\n",
       "21. 1672\n",
       "22. 1851\n",
       "23. 206\n",
       "24. 2257\n",
       "25. 2498\n",
       "26. 2655\n",
       "27. 2857\n",
       "28. 3009\n",
       "29. 3204\n",
       "30. 3396\n",
       "31. 3489\n",
       "32. 3612\n",
       "33. 3732\n",
       "34. 3856\n",
       "35. 3906\n",
       "36. 3981\n",
       "37. 4023\n",
       "38. 4035\n",
       "39. 4053\n",
       "40. 4068\n",
       "41. 3994\n",
       "42. 3977\n",
       "43. 3898\n",
       "44. 3792\n",
       "45. 3693\n",
       "46. 3605\n",
       "47. 3497\n",
       "48. 3381\n",
       "49. 3343\n",
       "50. 326\n",
       "51. 3186\n",
       "52. 3079\n",
       "53. 2936\n",
       "54. 2812\n",
       "55. 2733\n",
       "56. 2635\n",
       "57. 2573\n",
       "58. 2471\n",
       "59. 2384\n",
       "60. 2267\n",
       "61. 2173\n",
       "62. 2102\n",
       "63. 2009\n",
       "64. 1956\n",
       "65. 1863\n",
       "66. 1795\n",
       "67. 1694\n",
       "68. 1578\n",
       "69. 1539\n",
       "70. 1501\n",
       "71. 1479\n",
       "72. 1427\n",
       "73. 1333\n",
       "74. 1311\n",
       "75. 1168\n",
       "76. 1034\n",
       "77. 1027\n",
       "78. 999\n",
       "79. 952\n",
       "80. 893\n",
       "81. 855\n",
       "82. 808\n",
       "83. 775\n",
       "84. 772\n",
       "85. 749\n",
       "86. 716\n",
       "87. 676\n",
       "88. 640\n",
       "89. 595\n",
       "90. 572\n",
       "91. 553\n",
       "92. 541\n",
       "93. 521\n",
       "94. 505\n",
       "95. 489\n",
       "96. 475\n",
       "97. 450\n",
       "98. 435\n",
       "99. 424\n",
       "100. 408\n",
       "101. 353\n",
       "102. 338\n",
       "103. 316\n",
       "104. 293\n",
       "105. 287\n",
       "106. 283\n",
       "107. 263\n",
       "108. 249\n",
       "109. 236\n",
       "110. 227\n",
       "111. 220\n",
       "112. 209\n",
       "113. 207\n",
       "114. 177\n",
       "115. 163\n",
       "116. 168\n",
       "117. 161\n",
       "118. 152\n",
       "119. 148\n",
       "120. 127\n",
       "121. 115\n",
       "122. 107\n",
       "123. 103\n",
       "124. 105\n",
       "125. 97\n",
       "126. 98\n",
       "127. 96\n",
       "128. 93\n",
       "129. 87\n",
       "130. 82\n",
       "131. 79\n",
       "132. 71\n",
       "133. 74\n",
       "134. 72\n",
       "135. 70\n",
       "136. 71\n",
       "137. 69\n",
       "138. 65\n",
       "139. 67\n",
       "140. 68\n",
       "141. 65\n",
       "142. 60\n",
       "143. 57\n",
       "144. 53\n",
       "145. 50\n",
       "146. 50\n",
       "147. 49\n",
       "148. 47\n",
       "149. 49\n",
       "150. 48\n",
       "\n",
       "\n"
      ],
      "text/plain": [
       "  [1]   26   35   36   56   64  105  140  166  229  295  351  462  567  650  733\n",
       " [16]  877 1028 1153 1328 1518 1672 1851  206 2257 2498 2655 2857 3009 3204 3396\n",
       " [31] 3489 3612 3732 3856 3906 3981 4023 4035 4053 4068 3994 3977 3898 3792 3693\n",
       " [46] 3605 3497 3381 3343  326 3186 3079 2936 2812 2733 2635 2573 2471 2384 2267\n",
       " [61] 2173 2102 2009 1956 1863 1795 1694 1578 1539 1501 1479 1427 1333 1311 1168\n",
       " [76] 1034 1027  999  952  893  855  808  775  772  749  716  676  640  595  572\n",
       " [91]  553  541  521  505  489  475  450  435  424  408  353  338  316  293  287\n",
       "[106]  283  263  249  236  227  220  209  207  177  163  168  161  152  148  127\n",
       "[121]  115  107  103  105   97   98   96   93   87   82   79   71   74   72   70\n",
       "[136]   71   69   65   67   68   65   60   57   53   50   50   49   47   49   48"
      ]
     },
     "metadata": {},
     "output_type": "display_data"
    },
    {
     "data": {
      "text/html": [
       "150"
      ],
      "text/latex": [
       "150"
      ],
      "text/markdown": [
       "150"
      ],
      "text/plain": [
       "[1] 150"
      ]
     },
     "metadata": {},
     "output_type": "display_data"
    }
   ],
   "source": [
    "# Load the data\n",
    "# data(Kikwit1995)\n",
    "# head(Kikwit1995)\n",
    "\n",
    "covid_bed<- read.csv(\"hospitalization.csv\")\n",
    "covid_bed[1:150,3]\n",
    "length(covid_bed[1:150,3])"
   ]
  },
  {
   "cell_type": "code",
   "execution_count": 5,
   "id": "f28fcab8",
   "metadata": {},
   "outputs": [
    {
     "data": {
      "text/html": [
       "<style>\n",
       ".list-inline {list-style: none; margin:0; padding: 0}\n",
       ".list-inline>li {display: inline-block}\n",
       ".list-inline>li:not(:last-child)::after {content: \"\\00b7\"; padding: 0 .5ex}\n",
       "</style>\n",
       "<ol class=list-inline><li>1418</li><li>4</li></ol>\n"
      ],
      "text/latex": [
       "\\begin{enumerate*}\n",
       "\\item 1418\n",
       "\\item 4\n",
       "\\end{enumerate*}\n"
      ],
      "text/markdown": [
       "1. 1418\n",
       "2. 4\n",
       "\n",
       "\n"
      ],
      "text/plain": [
       "[1] 1418    4"
      ]
     },
     "metadata": {},
     "output_type": "display_data"
    }
   ],
   "source": [
    "dim(covid_bed)"
   ]
  },
  {
   "cell_type": "code",
   "execution_count": 6,
   "id": "f3b11b6f",
   "metadata": {},
   "outputs": [
    {
     "data": {
      "text/html": [
       "<style>\n",
       ".list-inline {list-style: none; margin:0; padding: 0}\n",
       ".list-inline>li {display: inline-block}\n",
       ".list-inline>li:not(:last-child)::after {content: \"\\00b7\"; padding: 0 .5ex}\n",
       "</style>\n",
       "<ol class=list-inline><li>127</li><li>149</li><li>164</li><li>304</li><li>409</li><li>506</li><li>779</li><li>908</li><li>1263</li><li>1641</li><li>2141</li><li>2856</li><li>3218</li><li>4207</li><li>5049</li><li>5038</li><li>6866</li><li>7803</li><li>8754</li><li>989</li><li>11335</li><li>12876</li><li>14954</li><li>1662</li><li>18255</li><li>18675</li><li>20565</li><li>22855</li><li>23896</li><li>25333</li><li>26601</li><li>28365</li><li>29761</li><li>30532</li><li>31292</li><li>31776</li><li>32215</li><li>32438</li><li>32593</li><li>32809</li><li>33004</li><li>32926</li><li>32874</li><li>3251</li><li>32178</li><li>32004</li><li>31739</li><li>31525</li><li>3119</li><li>31283</li><li>31197</li><li>30722</li><li>29829</li><li>28598</li><li>2774</li><li>27668</li><li>27479</li><li>26605</li><li>26189</li><li>25138</li><li>24241</li><li>23635</li><li>23381</li><li>22309</li><li>21586</li><li>21005</li><li>19843</li><li>19147</li><li>18896</li><li>18743</li><li>18302</li><li>17697</li><li>17102</li><li>16485</li><li>15804</li><li>14868</li><li>14645</li><li>14538</li><li>13817</li><li>13065</li><li>12308</li><li>116</li><li>11175</li><li>11083</li><li>10956</li><li>10707</li><li>103</li><li>9909</li><li>9552</li><li>9267</li><li>9166</li><li>8726</li><li>8438</li><li>8234</li><li>7868</li><li>7569</li><li>713</li><li>6822</li><li>6523</li><li>6324</li><li>6095</li><li>5841</li><li>5617</li><li>5295</li><li>5151</li><li>5012</li><li>4844</li><li>4569</li><li>4367</li><li>412</li><li>3967</li><li>3803</li><li>3696</li><li>3478</li><li>3276</li><li>3035</li><li>2793</li><li>2626</li><li>2462</li><li>2165</li><li>1968</li><li>1717</li><li>1618</li><li>1461</li><li>1357</li><li>1258</li><li>1216</li><li>1183</li><li>1112</li><li>1045</li><li>1035</li><li>1011</li><li>1019</li><li>1018</li><li>101</li><li>970</li><li>940</li><li>909</li><li>893</li><li>844</li><li>833</li><li>837</li><li>854</li><li>803</li><li>821</li><li>807</li><li>792</li><li>792</li><li>781</li><li>772</li></ol>\n"
      ],
      "text/latex": [
       "\\begin{enumerate*}\n",
       "\\item 127\n",
       "\\item 149\n",
       "\\item 164\n",
       "\\item 304\n",
       "\\item 409\n",
       "\\item 506\n",
       "\\item 779\n",
       "\\item 908\n",
       "\\item 1263\n",
       "\\item 1641\n",
       "\\item 2141\n",
       "\\item 2856\n",
       "\\item 3218\n",
       "\\item 4207\n",
       "\\item 5049\n",
       "\\item 5038\n",
       "\\item 6866\n",
       "\\item 7803\n",
       "\\item 8754\n",
       "\\item 989\n",
       "\\item 11335\n",
       "\\item 12876\n",
       "\\item 14954\n",
       "\\item 1662\n",
       "\\item 18255\n",
       "\\item 18675\n",
       "\\item 20565\n",
       "\\item 22855\n",
       "\\item 23896\n",
       "\\item 25333\n",
       "\\item 26601\n",
       "\\item 28365\n",
       "\\item 29761\n",
       "\\item 30532\n",
       "\\item 31292\n",
       "\\item 31776\n",
       "\\item 32215\n",
       "\\item 32438\n",
       "\\item 32593\n",
       "\\item 32809\n",
       "\\item 33004\n",
       "\\item 32926\n",
       "\\item 32874\n",
       "\\item 3251\n",
       "\\item 32178\n",
       "\\item 32004\n",
       "\\item 31739\n",
       "\\item 31525\n",
       "\\item 3119\n",
       "\\item 31283\n",
       "\\item 31197\n",
       "\\item 30722\n",
       "\\item 29829\n",
       "\\item 28598\n",
       "\\item 2774\n",
       "\\item 27668\n",
       "\\item 27479\n",
       "\\item 26605\n",
       "\\item 26189\n",
       "\\item 25138\n",
       "\\item 24241\n",
       "\\item 23635\n",
       "\\item 23381\n",
       "\\item 22309\n",
       "\\item 21586\n",
       "\\item 21005\n",
       "\\item 19843\n",
       "\\item 19147\n",
       "\\item 18896\n",
       "\\item 18743\n",
       "\\item 18302\n",
       "\\item 17697\n",
       "\\item 17102\n",
       "\\item 16485\n",
       "\\item 15804\n",
       "\\item 14868\n",
       "\\item 14645\n",
       "\\item 14538\n",
       "\\item 13817\n",
       "\\item 13065\n",
       "\\item 12308\n",
       "\\item 116\n",
       "\\item 11175\n",
       "\\item 11083\n",
       "\\item 10956\n",
       "\\item 10707\n",
       "\\item 103\n",
       "\\item 9909\n",
       "\\item 9552\n",
       "\\item 9267\n",
       "\\item 9166\n",
       "\\item 8726\n",
       "\\item 8438\n",
       "\\item 8234\n",
       "\\item 7868\n",
       "\\item 7569\n",
       "\\item 713\n",
       "\\item 6822\n",
       "\\item 6523\n",
       "\\item 6324\n",
       "\\item 6095\n",
       "\\item 5841\n",
       "\\item 5617\n",
       "\\item 5295\n",
       "\\item 5151\n",
       "\\item 5012\n",
       "\\item 4844\n",
       "\\item 4569\n",
       "\\item 4367\n",
       "\\item 412\n",
       "\\item 3967\n",
       "\\item 3803\n",
       "\\item 3696\n",
       "\\item 3478\n",
       "\\item 3276\n",
       "\\item 3035\n",
       "\\item 2793\n",
       "\\item 2626\n",
       "\\item 2462\n",
       "\\item 2165\n",
       "\\item 1968\n",
       "\\item 1717\n",
       "\\item 1618\n",
       "\\item 1461\n",
       "\\item 1357\n",
       "\\item 1258\n",
       "\\item 1216\n",
       "\\item 1183\n",
       "\\item 1112\n",
       "\\item 1045\n",
       "\\item 1035\n",
       "\\item 1011\n",
       "\\item 1019\n",
       "\\item 1018\n",
       "\\item 101\n",
       "\\item 970\n",
       "\\item 940\n",
       "\\item 909\n",
       "\\item 893\n",
       "\\item 844\n",
       "\\item 833\n",
       "\\item 837\n",
       "\\item 854\n",
       "\\item 803\n",
       "\\item 821\n",
       "\\item 807\n",
       "\\item 792\n",
       "\\item 792\n",
       "\\item 781\n",
       "\\item 772\n",
       "\\end{enumerate*}\n"
      ],
      "text/markdown": [
       "1. 127\n",
       "2. 149\n",
       "3. 164\n",
       "4. 304\n",
       "5. 409\n",
       "6. 506\n",
       "7. 779\n",
       "8. 908\n",
       "9. 1263\n",
       "10. 1641\n",
       "11. 2141\n",
       "12. 2856\n",
       "13. 3218\n",
       "14. 4207\n",
       "15. 5049\n",
       "16. 5038\n",
       "17. 6866\n",
       "18. 7803\n",
       "19. 8754\n",
       "20. 989\n",
       "21. 11335\n",
       "22. 12876\n",
       "23. 14954\n",
       "24. 1662\n",
       "25. 18255\n",
       "26. 18675\n",
       "27. 20565\n",
       "28. 22855\n",
       "29. 23896\n",
       "30. 25333\n",
       "31. 26601\n",
       "32. 28365\n",
       "33. 29761\n",
       "34. 30532\n",
       "35. 31292\n",
       "36. 31776\n",
       "37. 32215\n",
       "38. 32438\n",
       "39. 32593\n",
       "40. 32809\n",
       "41. 33004\n",
       "42. 32926\n",
       "43. 32874\n",
       "44. 3251\n",
       "45. 32178\n",
       "46. 32004\n",
       "47. 31739\n",
       "48. 31525\n",
       "49. 3119\n",
       "50. 31283\n",
       "51. 31197\n",
       "52. 30722\n",
       "53. 29829\n",
       "54. 28598\n",
       "55. 2774\n",
       "56. 27668\n",
       "57. 27479\n",
       "58. 26605\n",
       "59. 26189\n",
       "60. 25138\n",
       "61. 24241\n",
       "62. 23635\n",
       "63. 23381\n",
       "64. 22309\n",
       "65. 21586\n",
       "66. 21005\n",
       "67. 19843\n",
       "68. 19147\n",
       "69. 18896\n",
       "70. 18743\n",
       "71. 18302\n",
       "72. 17697\n",
       "73. 17102\n",
       "74. 16485\n",
       "75. 15804\n",
       "76. 14868\n",
       "77. 14645\n",
       "78. 14538\n",
       "79. 13817\n",
       "80. 13065\n",
       "81. 12308\n",
       "82. 116\n",
       "83. 11175\n",
       "84. 11083\n",
       "85. 10956\n",
       "86. 10707\n",
       "87. 103\n",
       "88. 9909\n",
       "89. 9552\n",
       "90. 9267\n",
       "91. 9166\n",
       "92. 8726\n",
       "93. 8438\n",
       "94. 8234\n",
       "95. 7868\n",
       "96. 7569\n",
       "97. 713\n",
       "98. 6822\n",
       "99. 6523\n",
       "100. 6324\n",
       "101. 6095\n",
       "102. 5841\n",
       "103. 5617\n",
       "104. 5295\n",
       "105. 5151\n",
       "106. 5012\n",
       "107. 4844\n",
       "108. 4569\n",
       "109. 4367\n",
       "110. 412\n",
       "111. 3967\n",
       "112. 3803\n",
       "113. 3696\n",
       "114. 3478\n",
       "115. 3276\n",
       "116. 3035\n",
       "117. 2793\n",
       "118. 2626\n",
       "119. 2462\n",
       "120. 2165\n",
       "121. 1968\n",
       "122. 1717\n",
       "123. 1618\n",
       "124. 1461\n",
       "125. 1357\n",
       "126. 1258\n",
       "127. 1216\n",
       "128. 1183\n",
       "129. 1112\n",
       "130. 1045\n",
       "131. 1035\n",
       "132. 1011\n",
       "133. 1019\n",
       "134. 1018\n",
       "135. 101\n",
       "136. 970\n",
       "137. 940\n",
       "138. 909\n",
       "139. 893\n",
       "140. 844\n",
       "141. 833\n",
       "142. 837\n",
       "143. 854\n",
       "144. 803\n",
       "145. 821\n",
       "146. 807\n",
       "147. 792\n",
       "148. 792\n",
       "149. 781\n",
       "150. 772\n",
       "\n",
       "\n"
      ],
      "text/plain": [
       "  [1]   127   149   164   304   409   506   779   908  1263  1641  2141  2856\n",
       " [13]  3218  4207  5049  5038  6866  7803  8754   989 11335 12876 14954  1662\n",
       " [25] 18255 18675 20565 22855 23896 25333 26601 28365 29761 30532 31292 31776\n",
       " [37] 32215 32438 32593 32809 33004 32926 32874  3251 32178 32004 31739 31525\n",
       " [49]  3119 31283 31197 30722 29829 28598  2774 27668 27479 26605 26189 25138\n",
       " [61] 24241 23635 23381 22309 21586 21005 19843 19147 18896 18743 18302 17697\n",
       " [73] 17102 16485 15804 14868 14645 14538 13817 13065 12308   116 11175 11083\n",
       " [85] 10956 10707   103  9909  9552  9267  9166  8726  8438  8234  7868  7569\n",
       " [97]   713  6822  6523  6324  6095  5841  5617  5295  5151  5012  4844  4569\n",
       "[109]  4367   412  3967  3803  3696  3478  3276  3035  2793  2626  2462  2165\n",
       "[121]  1968  1717  1618  1461  1357  1258  1216  1183  1112  1045  1035  1011\n",
       "[133]  1019  1018   101   970   940   909   893   844   833   837   854   803\n",
       "[145]   821   807   792   792   781   772"
      ]
     },
     "metadata": {},
     "output_type": "display_data"
    },
    {
     "data": {
      "text/html": [
       "150"
      ],
      "text/latex": [
       "150"
      ],
      "text/markdown": [
       "150"
      ],
      "text/plain": [
       "[1] 150"
      ]
     },
     "metadata": {},
     "output_type": "display_data"
    }
   ],
   "source": [
    "# Preprocess the data - Convert Date column to Date type\n",
    "covid_bed$Date <- as.Date(covid_bed$Time)\n",
    "# Extract the count of cases\n",
    "non_icu <- covid_bed$excluded_ICU_cases\n",
    "icu <- covid_bed$ICU_cases\n",
    "total_case <- covid_bed$total_cases[1:150]\n",
    "total_case\n",
    "length(total_case)\n",
    "dates <- covid_bed$Date\n",
    "times <- 1:length(total_case) # Time in days"
   ]
  },
  {
   "cell_type": "markdown",
   "id": "ef456361",
   "metadata": {},
   "source": [
    "## Visualization"
   ]
  },
  {
   "cell_type": "code",
   "execution_count": 59,
   "id": "d9446fbb",
   "metadata": {},
   "outputs": [
    {
     "data": {
      "image/png": "[encoded data removed]",
      "text/plain": [
       "Plot with title “ICU_cases”"
      ]
     },
     "metadata": {
      "image/png": {
       "height": 420,
       "width": 420
      }
     },
     "output_type": "display_data"
    }
   ],
   "source": [
    "# Plot the real data\n",
    "barplot(covid_bed$ICU_cases, xlab = \"Time of Onset(Days)\", ylab = \"Number of New Cases\",\n",
    "        main = \"ICU_cases\")\n",
    "axis(side = 1, at = seq(0,nrow(covid_bed), 50))\n",
    "# covid_bed$ICU_cases[1:500,3]\n",
    "# covid_bed$ICU_cases"
   ]
  },
  {
   "cell_type": "code",
   "execution_count": 45,
   "id": "04149e62",
   "metadata": {},
   "outputs": [
    {
     "ename": "ERROR",
     "evalue": "Error in covid_bed$ICU_cases[1:150, 3]: incorrect number of dimensions\n",
     "output_type": "error",
     "traceback": [
      "Error in covid_bed$ICU_cases[1:150, 3]: incorrect number of dimensions\nTraceback:\n",
      "1. plot(covid_bed$ICU_cases[1:150, 3])"
     ]
    }
   ],
   "source": [
    "plot(covid_bed$ICU_cases[1:150,3] )"
   ]
  },
  {
   "cell_type": "code",
   "execution_count": 24,
   "id": "ba699ec3",
   "metadata": {},
   "outputs": [
    {
     "ename": "ERROR",
     "evalue": "Error in covid_bed$excluded_ICU_cases: $ operator is invalid for atomic vectors\n",
     "output_type": "error",
     "traceback": [
      "Error in covid_bed$excluded_ICU_cases: $ operator is invalid for atomic vectors\nTraceback:\n",
      "1. barplot(covid_bed$excluded_ICU_cases, xlab = \"Time(Days)\", ylab = \"Number of New Cases\", \n .     main = \"excluded_ICU_cases\")"
     ]
    }
   ],
   "source": [
    "# Plot the real data\n",
    "barplot(covid_bed$excluded_ICU_cases, xlab = \"Time(Days)\", ylab = \"Number of New Cases\",\n",
    "        main = \"excluded_ICU_cases\")\n",
    "# axis(side = 1, at = seq(0, nrow(covid_bed), 50))"
   ]
  },
  {
   "cell_type": "code",
   "execution_count": 7,
   "id": "01608197",
   "metadata": {},
   "outputs": [],
   "source": [
    "# Gaussian fitting to the real data using nlsLM\n",
    "fit_gaussian <- function(data) {\n",
    "  nlsLM(Count ~ a * exp(-((time - b)^2) / (2 * c^2)),\n",
    "        data = data,\n",
    "        start = list(a = max(data$Count), b = which.max(data$Count), c = sd(data$time)),\n",
    "        control = nls.lm.control(maxiter = 100))\n",
    "}"
   ]
  },
  {
   "cell_type": "code",
   "execution_count": 8,
   "id": "cda3ba23",
   "metadata": {},
   "outputs": [
    {
     "ename": "ERROR",
     "evalue": "Error in eval(expr, envir, enclos): object 'cases' not found\n",
     "output_type": "error",
     "traceback": [
      "Error in eval(expr, envir, enclos): object 'cases' not found\nTraceback:\n",
      "1. fit_gaussian(data.frame(time = times, Count = cases))",
      "2. nlsLM(Count ~ a * exp(-((time - b)^2)/(2 * c^2)), data = data, \n .     start = list(a = max(data$Count), b = which.max(data$Count), \n .         c = sd(data$time)), control = nls.lm.control(maxiter = 100))   # at line 3-6 of file <text>",
      "3. data.frame(time = times, Count = cases)"
     ]
    }
   ],
   "source": [
    "# Fit the Gaussian model\n",
    "gaussian_fit <- fit_gaussian(data.frame(time = times, Count = cases))\n",
    "fitted_values <- predict(gaussian_fit)\n",
    "Kikwit1995$fitted <- fitted_values"
   ]
  },
  {
   "cell_type": "code",
   "execution_count": 10,
   "id": "6a199136",
   "metadata": {
    "scrolled": false
   },
   "outputs": [],
   "source": [
    "# Plot the real data and Gaussian fit\n",
    "# ggplot() +\n",
    "#   geom_bar(data = Kikwit1995, aes(x = times, y = Count), stat = \"identity\", fill = \"blue\", alpha = 0.5) +\n",
    "#   geom_line(data = Kikwit1995, aes(x = times, y = fitted), color = \"red\") +\n",
    "#   labs(title = \"Gaussian Fit to Real Data\",\n",
    "#        x = \"Time of Onset (days)\", y = \"Number of New Cases\") +\n",
    "#   theme_minimal()"
   ]
  },
  {
   "cell_type": "markdown",
   "id": "641a9a60",
   "metadata": {},
   "source": [
    "## Cummulative Cases of the Covid-19 Pandemic in Italy"
   ]
  },
  {
   "cell_type": "code",
   "execution_count": 7,
   "id": "c90d9276",
   "metadata": {},
   "outputs": [
    {
     "data": {
      "image/png": "[encoded data removed]",
      "text/plain": [
       "plot without title"
      ]
     },
     "metadata": {
      "image/png": {
       "height": 420,
       "width": 420
      }
     },
     "output_type": "display_data"
    }
   ],
   "source": [
    "# Convert 'Date' to the proper format and ensure it's sorted\n",
    "covid_bed$Date <- as.Date(covid_bed$Date, format = \"%Y-%m-%d\")\n",
    "covid_bed <- arrange(covid_bed, Date)\n",
    "\n",
    "# Calculate the cumulative cases\n",
    "covid_bed <- mutate(covid_bed, CumulativeCases = cumsum(total_cases))\n",
    "\n",
    "# Calculate days since the start of the dataset\n",
    "covid_bed <- mutate(covid_bed, DaysSinceStart = as.numeric(Date - min(Date)))\n",
    "\n",
    "# Find the values for annotations (assuming 'Date' column exists)\n",
    "Feb_24_date <- as.numeric(as.Date(\"2020-02-24\") - min(covid_bed$Date))\n",
    "Feb_24_cases <- covid_bed$CumulativeCases[which(covid_bed$DaysSinceStart == Feb_24_date)]\n",
    "\n",
    "jul_23_date <- as.numeric(as.Date(\"2020-07-23\") - min(covid_bed$Date))\n",
    "jul_23_cases <- covid_bed$CumulativeCases[which(covid_bed$DaysSinceStart == jul_23_date)]\n",
    "\n",
    "ggplot(covid_bed, aes(x = DaysSinceStart, y = CumulativeCases)) +\n",
    "   geom_line() +  # Add the line for cumulative cases\n",
    "  geom_point(color=\"blue\",shape = 1) +  # Add points for each day\n",
    "  scale_x_continuous(breaks = c(0, 50, 100, 150), labels = c(\"0\", \"50\", \"100\", \"150\")) +\n",
    "  annotate(\"text\", x = Feb_24_date, y = Feb_24_cases, label = \"Feb 24\", color = \"white\", hjust = 1.5, vjust = -0.5, fontface = \"bold\", size = 5) +\n",
    "  annotate(\"text\", x = jul_23_date, y = jul_23_cases, label = \"Jul 23\", color = \"white\", hjust = -0.5, vjust = -0.5, fontface = \"bold\", size = 5) +\n",
    "  labs(title = \"Epidemic Progression in Italy 2020\", subtitle = \"Cumulative cases plotted over days since outbreak start\", x = \"Days since start\", y = \"Cumulative number of cases\") +\n",
    "  theme_minimal(base_size = 14) +\n",
    "  theme(plot.background = element_rect(fill = \"white\", colour = \"white\"), \n",
    "        panel.background = element_rect(fill = \"white\", colour = \"white\"))  # Set background to white\n",
    "\n"
   ]
  },
  {
   "cell_type": "code",
   "execution_count": 98,
   "id": "1d266757",
   "metadata": {},
   "outputs": [
    {
     "data": {
      "text/html": [
       "'/var/autofs/misc/home/oumarou/Desktop/MMED_Drive_Aims_local/drive-download-20240624T075441Z-001'"
      ],
      "text/latex": [
       "'/var/autofs/misc/home/oumarou/Desktop/MMED\\_Drive\\_Aims\\_local/drive-download-20240624T075441Z-001'"
      ],
      "text/markdown": [
       "'/var/autofs/misc/home/oumarou/Desktop/MMED_Drive_Aims_local/drive-download-20240624T075441Z-001'"
      ],
      "text/plain": [
       "[1] \"/var/autofs/misc/home/oumarou/Desktop/MMED_Drive_Aims_local/drive-download-20240624T075441Z-001\""
      ]
     },
     "metadata": {},
     "output_type": "display_data"
    }
   ],
   "source": [
    "getwd()"
   ]
  },
  {
   "cell_type": "markdown",
   "id": "fe4c6d29",
   "metadata": {},
   "source": [
    "## $\\beta$ as a Function of t"
   ]
  },
  {
   "cell_type": "code",
   "execution_count": 79,
   "id": "aaf57e94",
   "metadata": {},
   "outputs": [],
   "source": [
    "# Define the function to calculate beta(t)\n",
    "#Transmission rate that model the delay of the intervention\n",
    "beta_t <- function(t, tau, beta_0, beta_1, q) {\n",
    "  if (t < tau) {\n",
    "    return(beta_0)\n",
    "  } else {\n",
    "    return(beta_1 + (beta_0 - beta_1) * exp(-q * (t - tau)))\n",
    "  }\n",
    "}\n"
   ]
  },
  {
   "cell_type": "markdown",
   "id": "68b93ba1",
   "metadata": {},
   "source": [
    "## SEIR Model Implementation"
   ]
  },
  {
   "cell_type": "code",
   "execution_count": 80,
   "id": "0bd628fe",
   "metadata": {},
   "outputs": [],
   "source": [
    "# SEIR model differential equations : Taking new assumptions into account\\\n",
    "\n",
    "seir <- function(t, y, params) {\n",
    "  S <- y[1]\n",
    "  E <- y[2]\n",
    "  I <- y[3]\n",
    "  R <- y[4]\n",
    "  B_n<-y[5]\n",
    "  B_icu <-y[6]\n",
    "  N=S+E+I+R+B_n+B_icu  # size of the population\n",
    "  beta <- beta_t(t, params[\"tau\"], params[\"beta_0\"], params[\"beta_1\"], params[\"q\"])\n",
    "  N <- params[\"N\"]\n",
    "  gamma <- params[\"gamma\"]\n",
    "  alpha <- params[\"alpha\"]\n",
    "  lambda1 <- params[\"lambda1\"]\n",
    "  lambda2 <- params[\"lambda2\"]\n",
    "  sigma<- params[\"sigma\"]\n",
    "  delta <- params[\"delta\"]\n",
    "  theta<- params[\"theta\"]\n",
    "    \n",
    "    \n",
    "#   mu <- params[\"mu\"]   \n",
    "# b <- params[\"b\"]\n",
    "# nu <- params[\"nu\"]  \n",
    "dSdt   <- -(beta*S*I)/N \n",
    "    \n",
    "dEdt   <- (beta*S*I)/N -sigma*E \n",
    "    \n",
    "dIdt   <- sigma*E-(gamma+alpha)*I\n",
    "    \n",
    "dRdt   <- gamma*I+ theta*B_n\n",
    "    \n",
    "dB_ndt <- alpha*I+lambda2*B_icu-(theta+lambda1)*B_n\n",
    "    \n",
    "dB_icudt<- lambda1*B_n-(lambda2+ delta)*B_icu\n",
    "    \n",
    "  return(list(c(dSdt, dEdt, dIdt, dRdt,dB_ndt,dB_icudt)))\n",
    "}\n"
   ]
  },
  {
   "cell_type": "markdown",
   "id": "93ceec33",
   "metadata": {},
   "source": [
    "## Initial Conditions"
   ]
  },
  {
   "cell_type": "code",
   "execution_count": 88,
   "id": "7bed56f1",
   "metadata": {},
   "outputs": [],
   "source": [
    "# Parameters and initial conditions\n",
    "latent_period=5.6 #[days]\n",
    "params <- c(\n",
    "  beta_0 = 0.33,\n",
    "  beta_1 = 0.09,\n",
    "  gamma = 1/12,\n",
    "  alpha =0.25   ,\n",
    "  lambda1 =  0.36,\n",
    "  lambda2 =0.015  ,\n",
    "  theta=1/15,\n",
    "  delta=1/8,\n",
    "  tau = 56,\n",
    "  q = 25,\n",
    "  N = 1000 ,\n",
    "  sigma=1/latent_period  )  \n",
    "#  b=1/(82.8*365.25) # birth rate in italy\n",
    "#   mu=b\n",
    "#   nu=1/(3.5*30)  # rate of immunity loss     \n",
    "initial_conditions <- c(S =970, E = 29, I = 1, R = 0, B_n=0,B_icu=0)\n",
    "times <- seq(1, 197, by = 1)"
   ]
  },
  {
   "cell_type": "markdown",
   "id": "12e72000",
   "metadata": {},
   "source": [
    "## Simulate SEIR Model"
   ]
  },
  {
   "cell_type": "code",
   "execution_count": 89,
   "id": "db80b31f",
   "metadata": {},
   "outputs": [],
   "source": [
    "# Solve the SEIR model\n",
    "seir_output <- ode(y = initial_conditions, times = times, func = seir, parms = params)\n"
   ]
  },
  {
   "cell_type": "code",
   "execution_count": 90,
   "id": "01546bab",
   "metadata": {},
   "outputs": [],
   "source": [
    "# Convert the output to a data frame\n",
    "seir_df <- as.data.frame(seir_output)"
   ]
  },
  {
   "cell_type": "code",
   "execution_count": 93,
   "id": "edc45784",
   "metadata": {},
   "outputs": [
    {
     "data": {
      "text/html": [
       "<table class=\"dataframe\">\n",
       "<caption>A data.frame: 6 × 7</caption>\n",
       "<thead>\n",
       "\t<tr><th></th><th scope=col>time</th><th scope=col>S</th><th scope=col>E</th><th scope=col>I</th><th scope=col>R</th><th scope=col>B_n</th><th scope=col>B_icu</th></tr>\n",
       "\t<tr><th></th><th scope=col>&lt;dbl&gt;</th><th scope=col>&lt;dbl&gt;</th><th scope=col>&lt;dbl&gt;</th><th scope=col>&lt;dbl&gt;</th><th scope=col>&lt;dbl&gt;</th><th scope=col>&lt;dbl&gt;</th><th scope=col>&lt;dbl&gt;</th></tr>\n",
       "</thead>\n",
       "<tbody>\n",
       "\t<tr><th scope=row>1</th><td>1</td><td>970.0000</td><td>29.00000</td><td>1.000000</td><td>0.0000000</td><td>0.0000000</td><td>0.00000000</td></tr>\n",
       "\t<tr><th scope=row>2</th><td>2</td><td>969.0221</td><td>25.16940</td><td>4.789664</td><td>0.2726724</td><td>0.6494987</td><td>0.09316152</td></tr>\n",
       "\t<tr><th scope=row>3</th><td>3</td><td>967.0996</td><td>22.82370</td><td>7.051869</td><td>0.8507025</td><td>1.6681177</td><td>0.47060089</td></tr>\n",
       "\t<tr><th scope=row>4</th><td>4</td><td>964.6194</td><td>21.36829</td><td>8.393671</td><td>1.6450080</td><td>2.6918296</td><td>1.14808951</td></tr>\n",
       "\t<tr><th scope=row>5</th><td>5</td><td>961.8151</td><td>20.44526</td><td>9.180206</td><td>2.5901287</td><td>3.5777329</td><td>2.05938244</td></tr>\n",
       "\t<tr><th scope=row>6</th><td>6</td><td>958.8276</td><td>19.83949</td><td>9.631108</td><td>3.6389117</td><td>4.2887934</td><td>3.11935432</td></tr>\n",
       "</tbody>\n",
       "</table>\n"
      ],
      "text/latex": [
       "A data.frame: 6 × 7\n",
       "\\begin{tabular}{r|lllllll}\n",
       "  & time & S & E & I & R & B\\_n & B\\_icu\\\\\n",
       "  & <dbl> & <dbl> & <dbl> & <dbl> & <dbl> & <dbl> & <dbl>\\\\\n",
       "\\hline\n",
       "\t1 & 1 & 970.0000 & 29.00000 & 1.000000 & 0.0000000 & 0.0000000 & 0.00000000\\\\\n",
       "\t2 & 2 & 969.0221 & 25.16940 & 4.789664 & 0.2726724 & 0.6494987 & 0.09316152\\\\\n",
       "\t3 & 3 & 967.0996 & 22.82370 & 7.051869 & 0.8507025 & 1.6681177 & 0.47060089\\\\\n",
       "\t4 & 4 & 964.6194 & 21.36829 & 8.393671 & 1.6450080 & 2.6918296 & 1.14808951\\\\\n",
       "\t5 & 5 & 961.8151 & 20.44526 & 9.180206 & 2.5901287 & 3.5777329 & 2.05938244\\\\\n",
       "\t6 & 6 & 958.8276 & 19.83949 & 9.631108 & 3.6389117 & 4.2887934 & 3.11935432\\\\\n",
       "\\end{tabular}\n"
      ],
      "text/markdown": [
       "\n",
       "A data.frame: 6 × 7\n",
       "\n",
       "| <!--/--> | time &lt;dbl&gt; | S &lt;dbl&gt; | E &lt;dbl&gt; | I &lt;dbl&gt; | R &lt;dbl&gt; | B_n &lt;dbl&gt; | B_icu &lt;dbl&gt; |\n",
       "|---|---|---|---|---|---|---|---|\n",
       "| 1 | 1 | 970.0000 | 29.00000 | 1.000000 | 0.0000000 | 0.0000000 | 0.00000000 |\n",
       "| 2 | 2 | 969.0221 | 25.16940 | 4.789664 | 0.2726724 | 0.6494987 | 0.09316152 |\n",
       "| 3 | 3 | 967.0996 | 22.82370 | 7.051869 | 0.8507025 | 1.6681177 | 0.47060089 |\n",
       "| 4 | 4 | 964.6194 | 21.36829 | 8.393671 | 1.6450080 | 2.6918296 | 1.14808951 |\n",
       "| 5 | 5 | 961.8151 | 20.44526 | 9.180206 | 2.5901287 | 3.5777329 | 2.05938244 |\n",
       "| 6 | 6 | 958.8276 | 19.83949 | 9.631108 | 3.6389117 | 4.2887934 | 3.11935432 |\n",
       "\n"
      ],
      "text/plain": [
       "  time S        E        I        R         B_n       B_icu     \n",
       "1 1    970.0000 29.00000 1.000000 0.0000000 0.0000000 0.00000000\n",
       "2 2    969.0221 25.16940 4.789664 0.2726724 0.6494987 0.09316152\n",
       "3 3    967.0996 22.82370 7.051869 0.8507025 1.6681177 0.47060089\n",
       "4 4    964.6194 21.36829 8.393671 1.6450080 2.6918296 1.14808951\n",
       "5 5    961.8151 20.44526 9.180206 2.5901287 3.5777329 2.05938244\n",
       "6 6    958.8276 19.83949 9.631108 3.6389117 4.2887934 3.11935432"
      ]
     },
     "metadata": {},
     "output_type": "display_data"
    }
   ],
   "source": [
    "head(seir_df)"
   ]
  },
  {
   "cell_type": "code",
   "execution_count": 92,
   "id": "662a33b3",
   "metadata": {},
   "outputs": [
    {
     "data": {
      "text/html": [
       "<style>\n",
       ".list-inline {list-style: none; margin:0; padding: 0}\n",
       ".list-inline>li {display: inline-block}\n",
       ".list-inline>li:not(:last-child)::after {content: \"\\00b7\"; padding: 0 .5ex}\n",
       "</style>\n",
       "<ol class=list-inline><li>197</li><li>7</li></ol>\n"
      ],
      "text/latex": [
       "\\begin{enumerate*}\n",
       "\\item 197\n",
       "\\item 7\n",
       "\\end{enumerate*}\n"
      ],
      "text/markdown": [
       "1. 197\n",
       "2. 7\n",
       "\n",
       "\n"
      ],
      "text/plain": [
       "[1] 197   7"
      ]
     },
     "metadata": {},
     "output_type": "display_data"
    }
   ],
   "source": [
    "dim(seir_df)"
   ]
  },
  {
   "cell_type": "code",
   "execution_count": 94,
   "id": "e189db7a",
   "metadata": {},
   "outputs": [
    {
     "data": {
      "image/png": "[encoded data removed]",
      "text/plain": [
       "plot without title"
      ]
     },
     "metadata": {
      "image/png": {
       "height": 420,
       "width": 420
      }
     },
     "output_type": "display_data"
    }
   ],
   "source": [
    "# Plot the simulation results\n",
    "ggplot(seir_df, aes(x = time)) +\n",
    "  geom_line(aes(y = I, color = \"Infectious\")) +\n",
    "  geom_line(aes(y = E, color = \"Exposed\")) +\n",
    "  geom_line(aes(y = S, color = \"Susceptible\")) +\n",
    "  geom_line(aes(y = R, color = \"Recovered\")) +\n",
    "  geom_line(aes(y = B_n, color = \"Normal beds\")) +\n",
    "  geom_line(aes(y = B_icu, color = \"ICU beds\")) +\n",
    "  labs(title = \"SEIR COVID-19 MODEL\",\n",
    "       x = \"Time (days)\", y = \"Number of Individuals\") +\n",
    "  scale_color_manual(values = c(\"Infectious\" = \"red\", \"Exposed\" = \"orange\", \"Susceptible\" = \"blue\", \"Recovered\" =\"green\",\"Normal beds\" = \"black\",\"ICU beds\" = \"purple\")) +\n",
    "  theme_minimal()"
   ]
  },
  {
   "cell_type": "code",
   "execution_count": null,
   "id": "9b471e22",
   "metadata": {},
   "outputs": [],
   "source": []
  },
  {
   "cell_type": "code",
   "execution_count": 25,
   "id": "d8cb84fe",
   "metadata": {},
   "outputs": [
    {
     "data": {
      "image/png": "[encoded data removed]",
      "text/plain": [
       "plot without title"
      ]
     },
     "metadata": {
      "image/png": {
       "height": 420,
       "width": 420
      }
     },
     "output_type": "display_data"
    }
   ],
   "source": [
    "# Plot the real data and Gaussian fit\n",
    "ggplot() +\n",
    "  geom_bar(data = Kikwit1995, aes(x = times, y = Count), stat = \"identity\", fill = \"blue\", alpha = 0.5) +\n",
    "  geom_line(data = seir_df, aes(x = times, y = I), color = \"red\") +\n",
    "  labs(title = \"Gaussian Fit to Real Data\",\n",
    "       x = \"Time of Onset (days)\", y = \"Number of New Cases\") +\n",
    "  theme_minimal()"
   ]
  },
  {
   "cell_type": "markdown",
   "id": "7e43bd1c",
   "metadata": {},
   "source": [
    "## Markov Chain Model To Plot S, E, I, R  Version 1"
   ]
  },
  {
   "cell_type": "code",
   "execution_count": 8,
   "id": "3ff5beca",
   "metadata": {},
   "outputs": [],
   "source": [
    "# Markov Chain SEIR model\n",
    "#Covid_19 Stochastic Model\n",
    "simulate_markov_chain <- function(params, initial_conditions, times) {\n",
    "  S <- initial_conditions[\"S\"]\n",
    "  E <- initial_conditions[\"E\"]\n",
    "  I <- initial_conditions[\"I\"]\n",
    "  R <- initial_conditions[\"R\"]\n",
    "\n",
    "  \n",
    "  N <- params[\"N\"]\n",
    "  gamma <- params[\"gamma\"]\n",
    "  alpha <- params[\"alpha\"]\n",
    "  lambda1 <- params[\"lambda1\"]\n",
    "  lambda2 <- params[\"lambda2\"]\n",
    "  sigma<- params[\"sigma\"]\n",
    "  delta <- params[\"delta\"]\n",
    "  theta<- params[\"theta\"]\n",
    "  q <- params[\"q\"]\n",
    "\n",
    "  results <- data.frame(time = times, S = numeric(length(times)), E = numeric(length(times)), I = numeric(length(times)), R = numeric(length(times)), C = numeric(length(times)))\n",
    "\n",
    "  for (t in times) {\n",
    "    beta <- beta_t(t, tau, beta_0, beta_1, q)\n",
    "    \n",
    "    # Calculate probabilities for the events\n",
    "      \n",
    "    p_SE <- 1 - exp(-(beta * I) / N)\n",
    "    p_IR <- 1 - exp(-gamma)\n",
    "\n",
    "    # Simulate the transitions\n",
    "    new_exposed <- rbinom(1, S, p_SE)\n",
    "    new_infectious <- rbinom(1, E, p_EI)\n",
    "    new_removed <- rbinom(1, I, p_IR)\n",
    "\n",
    "    # Update the compartments\n",
    "    S <- S - new_exposed\n",
    "    E <- E + new_exposed - new_infectious\n",
    "    I <- I + new_infectious - new_removed\n",
    "    R <- R + new_removed\n",
    "    C <- C + new_exposed\n",
    "\n",
    "    # Store the results\n",
    "    results[results$time == t, ] <- c(t, S, E, I, R, C)\n",
    "  }\n",
    "\n",
    "  return(results)\n",
    "}\n",
    "\n"
   ]
  },
  {
   "cell_type": "code",
   "execution_count": 27,
   "id": "9d9fe87d",
   "metadata": {},
   "outputs": [],
   "source": [
    "# Simulate the Markov Chain model\n",
    "markov_results <- simulate_markov_chain(params, initial_conditions, times)\n"
   ]
  },
  {
   "cell_type": "code",
   "execution_count": 28,
   "id": "27d317be",
   "metadata": {},
   "outputs": [
    {
     "data": {
      "text/html": [
       "<table class=\"dataframe\">\n",
       "<caption>A data.frame: 6 × 6</caption>\n",
       "<thead>\n",
       "\t<tr><th></th><th scope=col>time</th><th scope=col>S</th><th scope=col>E</th><th scope=col>I</th><th scope=col>R</th><th scope=col>C</th></tr>\n",
       "\t<tr><th></th><th scope=col>&lt;dbl&gt;</th><th scope=col>&lt;dbl&gt;</th><th scope=col>&lt;dbl&gt;</th><th scope=col>&lt;dbl&gt;</th><th scope=col>&lt;dbl&gt;</th><th scope=col>&lt;dbl&gt;</th></tr>\n",
       "</thead>\n",
       "<tbody>\n",
       "\t<tr><th scope=row>1</th><td>1</td><td>70</td><td>23</td><td> 7</td><td>0</td><td> 0</td></tr>\n",
       "\t<tr><th scope=row>2</th><td>2</td><td>68</td><td>24</td><td> 7</td><td>1</td><td> 2</td></tr>\n",
       "\t<tr><th scope=row>3</th><td>3</td><td>67</td><td>20</td><td>12</td><td>1</td><td> 3</td></tr>\n",
       "\t<tr><th scope=row>4</th><td>4</td><td>63</td><td>22</td><td>13</td><td>2</td><td> 7</td></tr>\n",
       "\t<tr><th scope=row>5</th><td>5</td><td>62</td><td>19</td><td>16</td><td>3</td><td> 8</td></tr>\n",
       "\t<tr><th scope=row>6</th><td>6</td><td>57</td><td>22</td><td>17</td><td>4</td><td>13</td></tr>\n",
       "</tbody>\n",
       "</table>\n"
      ],
      "text/latex": [
       "A data.frame: 6 × 6\n",
       "\\begin{tabular}{r|llllll}\n",
       "  & time & S & E & I & R & C\\\\\n",
       "  & <dbl> & <dbl> & <dbl> & <dbl> & <dbl> & <dbl>\\\\\n",
       "\\hline\n",
       "\t1 & 1 & 70 & 23 &  7 & 0 &  0\\\\\n",
       "\t2 & 2 & 68 & 24 &  7 & 1 &  2\\\\\n",
       "\t3 & 3 & 67 & 20 & 12 & 1 &  3\\\\\n",
       "\t4 & 4 & 63 & 22 & 13 & 2 &  7\\\\\n",
       "\t5 & 5 & 62 & 19 & 16 & 3 &  8\\\\\n",
       "\t6 & 6 & 57 & 22 & 17 & 4 & 13\\\\\n",
       "\\end{tabular}\n"
      ],
      "text/markdown": [
       "\n",
       "A data.frame: 6 × 6\n",
       "\n",
       "| <!--/--> | time &lt;dbl&gt; | S &lt;dbl&gt; | E &lt;dbl&gt; | I &lt;dbl&gt; | R &lt;dbl&gt; | C &lt;dbl&gt; |\n",
       "|---|---|---|---|---|---|---|\n",
       "| 1 | 1 | 70 | 23 |  7 | 0 |  0 |\n",
       "| 2 | 2 | 68 | 24 |  7 | 1 |  2 |\n",
       "| 3 | 3 | 67 | 20 | 12 | 1 |  3 |\n",
       "| 4 | 4 | 63 | 22 | 13 | 2 |  7 |\n",
       "| 5 | 5 | 62 | 19 | 16 | 3 |  8 |\n",
       "| 6 | 6 | 57 | 22 | 17 | 4 | 13 |\n",
       "\n"
      ],
      "text/plain": [
       "  time S  E  I  R C \n",
       "1 1    70 23  7 0  0\n",
       "2 2    68 24  7 1  2\n",
       "3 3    67 20 12 1  3\n",
       "4 4    63 22 13 2  7\n",
       "5 5    62 19 16 3  8\n",
       "6 6    57 22 17 4 13"
      ]
     },
     "metadata": {},
     "output_type": "display_data"
    }
   ],
   "source": [
    "head(markov_results)"
   ]
  },
  {
   "cell_type": "code",
   "execution_count": 29,
   "id": "7bb5ece8",
   "metadata": {},
   "outputs": [
    {
     "data": {
      "image/png": "[encoded data removed]",
      "text/plain": [
       "plot without title"
      ]
     },
     "metadata": {
      "image/png": {
       "height": 420,
       "width": 420
      }
     },
     "output_type": "display_data"
    }
   ],
   "source": [
    "# Plot the Markov Chain simulation results\n",
    "ggplot(markov_results, aes(x = time)) +\n",
    "  geom_line(aes(y = I, color = \"Infectious\")) +\n",
    "  geom_line(aes(y = E, color = \"Exposed\")) +\n",
    "  geom_line(aes(y = S, color = \"Susceptible\")) +\n",
    "  geom_line(aes(y = R, color = \"Removed\")) +\n",
    "  labs(title = \"Markov Chain SEIR Model Simulation of Ebola Outbreak\",\n",
    "       x = \"Time (days)\", y = \"Number of Individuals\") +\n",
    "  scale_color_manual(values = c(\"Infectious\" = \"red\", \"Exposed\" = \"orange\", \"Susceptible\" = \"blue\", \"Removed\" = \"green\")) +\n",
    "  theme_minimal()"
   ]
  },
  {
   "cell_type": "markdown",
   "id": "fa0fa3fb",
   "metadata": {},
   "source": [
    "## Calculating $R_{0}$"
   ]
  },
  {
   "cell_type": "code",
   "execution_count": null,
   "id": "569452cc",
   "metadata": {},
   "outputs": [],
   "source": [
    "# # Define the function to calculate R0 over time\n",
    "# R0_over_time <- function(t, R0_max, beta, period) {\n",
    "#   R0_max * (1 + beta * exp(-1 * pi * t / period) + cos(1.5 * pi * t / period))\n",
    "# }"
   ]
  },
  {
   "cell_type": "code",
   "execution_count": null,
   "id": "7717e999",
   "metadata": {},
   "outputs": [],
   "source": [
    "# # Define parameters\n",
    "# R0_max <- 0.9\n",
    "# beta <- 0.1\n",
    "# period <- 365"
   ]
  },
  {
   "cell_type": "code",
   "execution_count": null,
   "id": "81667347",
   "metadata": {},
   "outputs": [],
   "source": [
    "# # Calculate R0 values\n",
    "# R0_values <- R0_over_time(times, R0_max, beta, period)"
   ]
  },
  {
   "cell_type": "code",
   "execution_count": null,
   "id": "95e10ad9",
   "metadata": {},
   "outputs": [],
   "source": [
    "# # Plot R0 over time\n",
    "# ggplot(data.frame(time = times, R0 = R0_values), aes(x = time, y = R0)) +\n",
    "#   geom_line(color = \"blue\") +\n",
    "#   labs(title = \"Reproductive Number (R0) Over Time\",\n",
    "#        x = \"Time (days)\", y = \"Reproductive Number (R0)\") +\n",
    "#   theme_minimal()"
   ]
  },
  {
   "cell_type": "markdown",
   "id": "d3aa73e7",
   "metadata": {},
   "source": [
    "## Markov Chain Model Version 2"
   ]
  },
  {
   "cell_type": "code",
   "execution_count": 30,
   "id": "609e1349",
   "metadata": {},
   "outputs": [],
   "source": [
    "# Calculate beta(t) dynamically based on time\n",
    "beta_tt <- function(t, params) {\n",
    "  if (t < params[\"tau\"]) {\n",
    "    return(params[\"beta_0\"])\n",
    "  } else {\n",
    "    return(params[\"beta_1\"] + (params[\"beta_0\"] - params[\"beta_1\"]) * exp(-params[\"q\"] * (t - params[\"tau\"])))\n",
    "  }\n",
    "}\n"
   ]
  },
  {
   "cell_type": "code",
   "execution_count": 31,
   "id": "3d3ba34f",
   "metadata": {},
   "outputs": [],
   "source": [
    "# Stochastic SEIR model using Gillespie Algorithm\n",
    "seir_gillespie <- function(params, initial_conditions, times) {\n",
    "  t <- 0\n",
    "  results <- data.frame(time = t, S = initial_conditions[\"S\"], E = initial_conditions[\"E\"], I = initial_conditions[\"I\"], R = initial_conditions[\"R\"], C = initial_conditions[\"C\"])\n",
    "  \n",
    "  while(t < max(times)) {\n",
    "    S <- results$S[nrow(results)]\n",
    "    E <- results$E[nrow(results)]\n",
    "    I <- results$I[nrow(results)]\n",
    "    R <- results$R[nrow(results)]\n",
    "    C <- results$C[nrow(results)]\n",
    "    \n",
    "    N <- params[\"N\"]\n",
    "    gamma <- params[\"gamma\"]\n",
    "    k <- params[\"k\"]\n",
    "    beta <- beta_tt(t, params)\n",
    "    \n",
    "    # Rates of transitions\n",
    "    rate_infection <- beta * S * I / N\n",
    "    rate_exposed_to_infectious <- k * E\n",
    "    rate_infectious_to_removed <- gamma * I\n",
    "    \n",
    "    rates <- c(rate_infection, rate_exposed_to_infectious, rate_infectious_to_removed)\n",
    "    total_rate <- sum(rates)\n",
    "    \n",
    "    if(total_rate == 0) break\n",
    "    \n",
    "    # Time to next event\n",
    "    dt <- rexp(1, total_rate)\n",
    "    t <- t + dt\n",
    "    \n",
    "    # Determine which event occurs\n",
    "    event <- sample(1:3, 1, prob = rates)\n",
    "    \n",
    "    if(event == 1 && S > 0) {\n",
    "      S <- S - 1\n",
    "      E <- E + 1\n",
    "    } else if(event == 2 && E > 0) {\n",
    "      E <- E - 1\n",
    "      I <- I + 1\n",
    "      C <- C + 1\n",
    "    } else if(event == 3 && I > 0) {\n",
    "      I <- I - 1\n",
    "      R <- R + 1\n",
    "    }\n",
    "    \n",
    "    results <- rbind(results, data.frame(time = t, S = S, E = E, I = I, R = R, C = C))\n",
    "  }\n",
    "  \n",
    "  return(results)\n",
    "}\n"
   ]
  },
  {
   "cell_type": "code",
   "execution_count": 32,
   "id": "daaed556",
   "metadata": {},
   "outputs": [],
   "source": [
    "# Number of simulations\n",
    "num_simulations <- 100\n",
    "all_simulations <- list()\n",
    "\n",
    "for(i in 1:num_simulations) {\n",
    "  sim_result <- seir_gillespie(params, initial_conditions, times)\n",
    "  all_simulations[[i]] <- sim_result\n",
    "}\n"
   ]
  },
  {
   "cell_type": "code",
   "execution_count": 33,
   "id": "25d28bbb",
   "metadata": {},
   "outputs": [
    {
     "data": {
      "text/plain": [
       "   Min. 1st Qu.  Median    Mean 3rd Qu.    Max. \n",
       "  67.00   78.00   83.00   82.25   87.25   92.00 "
      ]
     },
     "metadata": {},
     "output_type": "display_data"
    },
    {
     "data": {
      "image/png": "[encoded data removed]",
      "text/plain": [
       "Plot with title “Distribution of Final Epidemic Sizes”"
      ]
     },
     "metadata": {
      "image/png": {
       "height": 420,
       "width": 420
      }
     },
     "output_type": "display_data"
    }
   ],
   "source": [
    "# Function to extract the final epidemic size from each simulation\n",
    "final_epidemic_size <- function(simulation) {\n",
    "  return(max(simulation$C))\n",
    "}\n",
    "\n",
    "# Calculate final epidemic sizes for all simulations\n",
    "final_sizes <- sapply(all_simulations, final_epidemic_size)\n",
    "\n",
    "# Plot the distribution of final epidemic sizes\n",
    "hist(final_sizes, breaks = 30, main = \"Distribution of Final Epidemic Sizes\", xlab = \"Final Epidemic Size\", ylab = \"Frequency\")\n",
    "\n",
    "# Calculate summary statistics\n",
    "summary(final_sizes)\n"
   ]
  },
  {
   "cell_type": "code",
   "execution_count": 34,
   "id": "18cc514d",
   "metadata": {},
   "outputs": [
    {
     "data": {
      "image/png": "[encoded data removed]",
      "text/plain": [
       "Plot with title “Sample Epidemic Curves”"
      ]
     },
     "metadata": {
      "image/png": {
       "height": 420,
       "width": 420
      }
     },
     "output_type": "display_data"
    }
   ],
   "source": [
    "# Plot a few sample simulations\n",
    "# sample_indices <- sample(1:num_simulations, 5)\n",
    "sample_indices <- sample(1)\n",
    "\n",
    "\n",
    "plot(NULL, xlim = c(0, max(times)), ylim = c(0, max(sapply(all_simulations, function(sim) max(sim$I)))), \n",
    "     xlab = \"Time (days)\", ylab = \"Number of Infectious Individuals\", main = \"Sample Epidemic Curves\")\n",
    "\n",
    "for(i in sample_indices) {\n",
    "  lines(all_simulations[[i]]$time, all_simulations[[i]]$I, col = i, type = \"l\")\n",
    "}\n",
    "\n",
    "legend(\"topright\", legend = paste(\"Simulation\", sample_indices), col = sample_indices, lty = 1)\n"
   ]
  },
  {
   "cell_type": "markdown",
   "id": "59470ce4",
   "metadata": {},
   "source": [
    "## Markove Chain Model Version 3 for the Time of Intervention Delay"
   ]
  },
  {
   "cell_type": "markdown",
   "id": "f214f8a1",
   "metadata": {},
   "source": [
    "## Initial Conditions"
   ]
  },
  {
   "cell_type": "code",
   "execution_count": 40,
   "id": "91230c59",
   "metadata": {},
   "outputs": [],
   "source": [
    "# Parameters and initial conditions\n",
    "params <- c(\n",
    "  beta_0 = 0.23,\n",
    "  beta_1 = 0.09,\n",
    "  k = 1/5.3,\n",
    "  gamma = 1/5.61,\n",
    "  tau = 56,\n",
    "  q = 25,\n",
    "  N = 300\n",
    ")\n",
    "\n",
    "initial_conditions <- c(S = 250, E = 40, I = 10, R = 0, C = 0)\n",
    "times <- seq(1, 197, by = 1)\n"
   ]
  },
  {
   "cell_type": "code",
   "execution_count": 41,
   "id": "7b498f1a",
   "metadata": {},
   "outputs": [],
   "source": [
    "# Stochastic SEIR model using Gillespie Algorithm\n",
    "seir_gillespie <- function(params, initial_conditions, times) {\n",
    "  t <- 0\n",
    "  results <- data.frame(time = t, S = initial_conditions[\"S\"], E = initial_conditions[\"E\"], I = initial_conditions[\"I\"], R = initial_conditions[\"R\"], C = initial_conditions[\"C\"])\n",
    "  \n",
    "  while(t < max(times)) {\n",
    "    S <- results$S[nrow(results)]\n",
    "    E <- results$E[nrow(results)]\n",
    "    I <- results$I[nrow(results)]\n",
    "    R <- results$R[nrow(results)]\n",
    "    C <- results$C[nrow(results)]\n",
    "    \n",
    "    N <- params[\"N\"]\n",
    "    gamma <- params[\"gamma\"]\n",
    "    k <- params[\"k\"]\n",
    "    beta <- beta_tt(t, params)\n",
    "    \n",
    "    # Rates of transitions\n",
    "    rate_infection <- beta * S * I / N\n",
    "    rate_exposed_to_infectious <- k * E\n",
    "    rate_infectious_to_removed <- gamma * I\n",
    "    \n",
    "    rates <- c(rate_infection, rate_exposed_to_infectious, rate_infectious_to_removed)\n",
    "    total_rate <- sum(rates)\n",
    "    \n",
    "    if(total_rate == 0) break\n",
    "    \n",
    "    # Time to next event\n",
    "    dt <- rexp(1, total_rate)\n",
    "    t <- t + dt\n",
    "    \n",
    "    # Determine which event occurs\n",
    "    event <- sample(1:3, 1, prob = rates)\n",
    "    \n",
    "    if(event == 1 && S > 0) {\n",
    "      S <- S - 1\n",
    "      E <- E + 1\n",
    "    } else if(event == 2 && E > 0) {\n",
    "      E <- E - 1\n",
    "      I <- I + 1\n",
    "      C <- C + 1\n",
    "    } else if(event == 3 && I > 0) {\n",
    "      I <- I - 1\n",
    "      R <- R + 1\n",
    "    }\n",
    "    \n",
    "    results <- rbind(results, data.frame(time = t, S = S, E = E, I = I, R = R, C = C))\n",
    "  }\n",
    "  \n",
    "  return(results)\n",
    "}\n"
   ]
  },
  {
   "cell_type": "code",
   "execution_count": 42,
   "id": "7cf7a467",
   "metadata": {},
   "outputs": [],
   "source": [
    "\n",
    "# Number of simulations for each tau\n",
    "num_simulations <- 250\n",
    "\n",
    "# Define range of intervention times (tau)\n",
    "tau_values <- seq(0, 197, by = 1)\n",
    "\n",
    "# Collect results\n",
    "final_sizes <- data.frame(tau = tau_values, mean_final_size = NA, sd_final_size = NA)\n",
    "\n",
    "for (tau in tau_values) {\n",
    "  params[\"tau\"] <- tau\n",
    "  epidemic_sizes <- numeric(num_simulations)\n",
    "  \n",
    "  for (i in 1:num_simulations) {\n",
    "    sim_result <- seir_gillespie(params, initial_conditions, times)\n",
    "    epidemic_sizes[i] <- max(sim_result$C)\n",
    "  }\n",
    "  \n",
    "  final_sizes[final_sizes$tau == tau, \"mean_final_size\"] <- mean(epidemic_sizes)\n",
    "  final_sizes[final_sizes$tau == tau, \"sd_final_size\"] <- sd(epidemic_sizes)\n",
    "}\n"
   ]
  },
  {
   "cell_type": "code",
   "execution_count": 43,
   "id": "320d4084",
   "metadata": {},
   "outputs": [
    {
     "data": {
      "image/png": "[encoded data removed]",
      "text/plain": [
       "plot without title"
      ]
     },
     "metadata": {
      "image/png": {
       "height": 420,
       "width": 420
      }
     },
     "output_type": "display_data"
    }
   ],
   "source": [
    "# Load necessary library\n",
    "library(ggplot2)\n",
    "\n",
    "# Plot final epidemic size vs. time to intervention\n",
    "ggplot(final_sizes, aes(x = tau, y = mean_final_size)) +\n",
    "  geom_line(color = \"blue\") +\n",
    "  geom_ribbon(aes(ymin = mean_final_size - sd_final_size, ymax = mean_final_size + sd_final_size), alpha = 0.2) +\n",
    "  labs(title = \"Final Epidemic Size vs. Time to Intervention\",\n",
    "       x = \"Time to Intervention (days)\",\n",
    "       y = \"Final Epidemic Size\") +\n",
    "  theme_minimal()\n"
   ]
  },
  {
   "cell_type": "code",
   "execution_count": null,
   "id": "0f17b003",
   "metadata": {},
   "outputs": [],
   "source": []
  },
  {
   "cell_type": "code",
   "execution_count": 18,
   "id": "7735c006",
   "metadata": {},
   "outputs": [],
   "source": [
    "# # SEIR model differential equations\n",
    "# seir <- function(t, y, params) {\n",
    "#   S <- y[1]\n",
    "#   E <- y[2]\n",
    "#   I <- y[3]\n",
    "#   R <- y[4]\n",
    "#   B_n<-y[5]\n",
    "#   B_icu <-y[6]\n",
    "#   N=S+E+I+R+B_n+B_icu  # size of the population\n",
    "#   beta <- beta_t(t, params[\"tau\"], params[\"beta_0\"], params[\"beta_1\"], params[\"q\"])\n",
    "#   N <- params[\"N\"]\n",
    "#   gamma <- params[\"gamma\"]\n",
    "#   mu <- params[\"mu\"]\n",
    "#   b <- params[\"b\"]\n",
    "#   nu <- params[\"nu\"]\n",
    "#   alpha1 <- params[\"alpha1\"]\n",
    "#   alpha2 <- params[\"alpha2\"]\n",
    "#   eps1 <- params[\"eps1\"]\n",
    "#   eps2 <- params[\"eps2\"]\n",
    "#   lambda1 <- params[\"lambda1\"]\n",
    "#   lambda2 <- params[\"lambda2\"]\n",
    "    \n",
    "# dSdt   <- b*N -(beta*S*I)/N -mu*S+nu*R\n",
    "    \n",
    "# dEdt   <- (beta*S*I)/N -sigma*E -mu*E\n",
    "    \n",
    "# dIdt   <- sigma*E-(gamma+mu+alpha1+alpha2)*I\n",
    "    \n",
    "# dRdt   <- gamma*I+eps1*B_n+eps2*B_icu-(nu+mu)*R\n",
    "    \n",
    "# dB_ndt <-alpha1*I+lambda1*B_icu-(eps1+lambda2+mu)*B_n\n",
    "    \n",
    "# dB_icudt<-alpha2*I +lambda2*B_n-(eps2+lambda1+mu)*B_icu\n",
    "    \n",
    "#   return(list(c(dSdt, dEdt, dIdt, dRdt,dB_ndt,dB_icudt)))\n",
    "# }\n",
    "\n",
    "# #   dSdt <- -(beta * S * I) / N\n",
    "# #   dEdt <- ((beta * S * I) / N) - (k * E)\n",
    "# #   dIdt <- (k * E) - (gamma * I)\n",
    "# #   dRdt <- gamma * I\n",
    "# #   dCdt <- k * E"
   ]
  }
 ],
 "metadata": {
  "kernelspec": {
   "display_name": "R",
   "language": "R",
   "name": "ir"
  },
  "language_info": {
   "codemirror_mode": "r",
   "file_extension": ".r",
   "mimetype": "text/x-r-source",
   "name": "R",
   "pygments_lexer": "r",
   "version": "4.4.1"
  }
 },
 "nbformat": 4,
 "nbformat_minor": 5
}
